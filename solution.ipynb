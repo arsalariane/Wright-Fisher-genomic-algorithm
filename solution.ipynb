
# Wright-Fisher model
## Libraries

```python
### 1
%matplotlib inline 
#If you run into errors with %matplotlib, check that your version of ipython is >=1.0 
import numpy as np #numpy defines useful functions for manipulating arrays and matrices.
import matplotlib.pyplot as plt #matplotlib is plotting library
```

## Implementation

```python
### 2
p0   = 0.1  # initial proportion of "1" alleles 
nInd = 100  # initial population size (number of individuals)
```

```python
### 3
# Initialize a population of length nInd with only 0 alleles. 
initial_population = np.zeros(nInd)

# Set the first p0*nInd alleles to 1. 

initial_population[0:int(p0*nInd)] = 1

#The position of individuals doesn't matter in this model, but if you prefer to have a more realistically random 
# distribution of alleles, you can use np.random.shuffle to distribute alleles randomly.

np.random.shuffle(initial_population)
```

```python
### 4
sample_size = 10
np.random.choice(initial_population, sample_size, replace=False )
```

*Optional Mathematical exercise*

1. What is the distribution of offspring number per individual in the Wright-Fisher model? \n",
\n",
2. Convince yourself that this distribution is approximately Poisson distributed with mean one (hint: This is a consequence of the law of rare events) "
